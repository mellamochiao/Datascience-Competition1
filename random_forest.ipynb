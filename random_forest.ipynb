{
 "cells": [
  {
   "cell_type": "code",
   "execution_count": 5,
   "metadata": {},
   "outputs": [],
   "source": [
    "import os\n",
    "import csv\n",
    "import pandas as pd\n",
    "import numpy as np\n",
    "from sklearn.ensemble import RandomForestClassifier\n"
   ]
  },
  {
   "cell_type": "code",
   "execution_count": 3,
   "metadata": {},
   "outputs": [],
   "source": [
    "X_trains = []\n",
    "y_trains = []\n",
    "dataset_names = sorted(\n",
    "    [name for name in os.listdir(\"./Competition_data\") if not name.startswith('.')],\n",
    "    key=lambda x: int(x.split('_')[1]) if x.startswith(\"Dataset_\") else float('inf'))\n",
    "\n",
    "for folder_name in dataset_names:\n",
    "    X_train = pd.read_csv(f\"./Competition_data/{folder_name}/X_train.csv\")\n",
    "    y_train = pd.read_csv(f\"./Competition_data/{folder_name}/y_train.csv\")\n",
    "    X_trains.append(X_train)\n",
    "    y_trains.append(y_train)\n",
    "\n",
    "# 找到所有資料集中的獨特特徵名稱，並排序\n",
    "all_features = set()\n",
    "for X_train in X_trains:\n",
    "    all_features.update(X_train.columns)\n",
    "all_features = sorted(list(all_features))  # 確保特徵名稱排序一致性\n",
    "\n",
    "# 計算每個特徵的均值來填充缺失值\n",
    "feature_means = pd.concat([X_train.reindex(columns=all_features) for X_train in X_trains], axis=0).mean()\n",
    "\n",
    "# 將每個資料集的特徵對齊，並使用均值填充缺失值\n",
    "aligned_X_trains = [X_train.reindex(columns=all_features).fillna(feature_means) for X_train in X_trains]\n",
    "\n",
    "# 合併所有訓練資料\n",
    "X_train_combined = pd.concat(aligned_X_trains, axis=0)\n",
    "y_train_combined = pd.concat(y_trains, axis=0).values.ravel()"
   ]
  },
  {
   "cell_type": "code",
   "execution_count": null,
   "metadata": {},
   "outputs": [],
   "source": [
    "#rf模型建構\n",
    "rf_model = RandomForestClassifier(\n",
    "    n_estimators=3000, \n",
    "    max_depth=None, \n",
    "    random_state=42,\n",
    "    class_weight='balanced')\n",
    "rf_model.fit(X_train_combined, y_train_combined)"
   ]
  },
  {
   "cell_type": "code",
   "execution_count": 81,
   "metadata": {},
   "outputs": [
    {
     "name": "stdout",
     "output_type": "stream",
     "text": [
      "Predictions for Dataset_1 saved to Dataset_1/y_predict.csv\n",
      "Predictions for Dataset_2 saved to Dataset_2/y_predict.csv\n",
      "Predictions for Dataset_3 saved to Dataset_3/y_predict.csv\n",
      "Predictions for Dataset_4 saved to Dataset_4/y_predict.csv\n",
      "Predictions for Dataset_5 saved to Dataset_5/y_predict.csv\n",
      "Predictions for Dataset_6 saved to Dataset_6/y_predict.csv\n",
      "Predictions for Dataset_7 saved to Dataset_7/y_predict.csv\n",
      "Predictions for Dataset_8 saved to Dataset_8/y_predict.csv\n",
      "Predictions for Dataset_9 saved to Dataset_9/y_predict.csv\n",
      "Predictions for Dataset_10 saved to Dataset_10/y_predict.csv\n",
      "Predictions for Dataset_11 saved to Dataset_11/y_predict.csv\n",
      "Predictions for Dataset_12 saved to Dataset_12/y_predict.csv\n",
      "Predictions for Dataset_13 saved to Dataset_13/y_predict.csv\n",
      "Predictions for Dataset_14 saved to Dataset_14/y_predict.csv\n",
      "Predictions for Dataset_15 saved to Dataset_15/y_predict.csv\n",
      "Predictions for Dataset_16 saved to Dataset_16/y_predict.csv\n",
      "Predictions for Dataset_17 saved to Dataset_17/y_predict.csv\n",
      "Predictions for Dataset_18 saved to Dataset_18/y_predict.csv\n",
      "Predictions for Dataset_19 saved to Dataset_19/y_predict.csv\n",
      "Predictions for Dataset_20 saved to Dataset_20/y_predict.csv\n",
      "Predictions for Dataset_21 saved to Dataset_21/y_predict.csv\n",
      "Predictions for Dataset_22 saved to Dataset_22/y_predict.csv\n",
      "Predictions for Dataset_23 saved to Dataset_23/y_predict.csv\n",
      "Predictions for Dataset_24 saved to Dataset_24/y_predict.csv\n",
      "Predictions for Dataset_25 saved to Dataset_25/y_predict.csv\n",
      "Predictions for Dataset_26 saved to Dataset_26/y_predict.csv\n",
      "Predictions for Dataset_27 saved to Dataset_27/y_predict.csv\n",
      "Predictions for Dataset_28 saved to Dataset_28/y_predict.csv\n",
      "Predictions for Dataset_29 saved to Dataset_29/y_predict.csv\n",
      "Predictions for Dataset_30 saved to Dataset_30/y_predict.csv\n",
      "Predictions for Dataset_31 saved to Dataset_31/y_predict.csv\n",
      "Predictions for Dataset_32 saved to Dataset_32/y_predict.csv\n",
      "Predictions for Dataset_33 saved to Dataset_33/y_predict.csv\n",
      "Predictions for Dataset_34 saved to Dataset_34/y_predict.csv\n",
      "Predictions for Dataset_35 saved to Dataset_35/y_predict.csv\n",
      "Predictions for Dataset_36 saved to Dataset_36/y_predict.csv\n",
      "Predictions for Dataset_37 saved to Dataset_37/y_predict.csv\n",
      "Predictions for Dataset_38 saved to Dataset_38/y_predict.csv\n",
      "Predictions for Dataset_39 saved to Dataset_39/y_predict.csv\n",
      "Predictions for Dataset_40 saved to Dataset_40/y_predict.csv\n",
      "Predictions for Dataset_41 saved to Dataset_41/y_predict.csv\n",
      "Predictions for Dataset_42 saved to Dataset_42/y_predict.csv\n",
      "Predictions for Dataset_43 saved to Dataset_43/y_predict.csv\n",
      "Predictions for Dataset_44 saved to Dataset_44/y_predict.csv\n",
      "Predictions for Dataset_45 saved to Dataset_45/y_predict.csv\n",
      "Predictions for Dataset_46 saved to Dataset_46/y_predict.csv\n",
      "Predictions for Dataset_47 saved to Dataset_47/y_predict.csv\n",
      "Predictions for Dataset_48 saved to Dataset_48/y_predict.csv\n",
      "Predictions for Dataset_49 saved to Dataset_49/y_predict.csv\n"
     ]
    }
   ],
   "source": [
    "for folder_name in dataset_names:\n",
    "    X_test = pd.read_csv(f\"./Competition_data/{folder_name}/X_test.csv\")\n",
    "    # 對齊並使用均值填充\n",
    "    X_test_aligned = X_test.reindex(columns=all_features).fillna(feature_means)\n",
    "    \n",
    "    # 獲取機率預測\n",
    "    y_pred_proba = rf_model.predict_proba(X_test_aligned)[:, 1]\n",
    "    \n",
    "    # 儲存機率預測\n",
    "    predictions = pd.DataFrame({'y_predict': y_pred_proba})\n",
    "    predictions.to_csv(f'./Competition_data/{folder_name}/y_predict.csv', index=False)\n",
    "    \n",
    "    print(f\"Predictions for {folder_name} saved to {folder_name}/y_predict.csv\")"
   ]
  },
  {
   "cell_type": "markdown",
   "metadata": {},
   "source": [
    "AUC:0.812619"
   ]
  }
 ],
 "metadata": {
  "kernelspec": {
   "display_name": "Python 3",
   "language": "python",
   "name": "python3"
  },
  "language_info": {
   "codemirror_mode": {
    "name": "ipython",
    "version": 3
   },
   "file_extension": ".py",
   "mimetype": "text/x-python",
   "name": "python",
   "nbconvert_exporter": "python",
   "pygments_lexer": "ipython3",
   "version": "3.12.2"
  }
 },
 "nbformat": 4,
 "nbformat_minor": 2
}
